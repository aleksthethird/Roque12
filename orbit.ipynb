{
  "cells": [
    {
      "metadata": {
        "trusted": true
      },
      "cell_type": "code",
      "source": "Rsol = 700e6 #km\nMsol = 2e30 #kg\nG = 6.672e-11\npi = 3.1415",
      "execution_count": 62,
      "outputs": []
    },
    {
      "metadata": {
        "trusted": true
      },
      "cell_type": "code",
      "source": "mass1 = 0.06 * Msol\nmass2 = 0.01 * Msol\nmtot = mass1 + mass2\nradius = 0.13 * Rsol\nperiod = 80 * 24 * 3600\ndt = 1.3 * 3600",
      "execution_count": 75,
      "outputs": []
    },
    {
      "metadata": {
        "trusted": true
      },
      "cell_type": "code",
      "source": "amax3= (period**2 * G * mtot / (4 * pi**2))\namax = amax3**(1/3)\nprint(amax/150e9)",
      "execution_count": 76,
      "outputs": [
        {
          "output_type": "stream",
          "text": "0.1496216863339586\n",
          "name": "stdout"
        }
      ]
    },
    {
      "metadata": {
        "trusted": true
      },
      "cell_type": "code",
      "source": "# for circular orbit\nv = 2 * pi * amax / period\nprint(v)",
      "execution_count": 77,
      "outputs": [
        {
          "output_type": "stream",
          "text": "20400.890955648043\n",
          "name": "stdout"
        }
      ]
    },
    {
      "metadata": {
        "trusted": true
      },
      "cell_type": "code",
      "source": "duration = 2 * radius / v\nprint('circular orbit ', duration / 3600)",
      "execution_count": 78,
      "outputs": [
        {
          "output_type": "stream",
          "text": "circular orbit  2.478105278120665\n",
          "name": "stdout"
        }
      ]
    },
    {
      "metadata": {
        "trusted": true
      },
      "cell_type": "code",
      "source": "# now with actual eclipse length\nvper = 2 * radius / dt\nX = vper**2 * amax / (G*mtot)\ne = (X-1) / (X+1)\nprint('eccentricity ', e)",
      "execution_count": 79,
      "outputs": [
        {
          "output_type": "stream",
          "text": "eccentricity  0.5683823892473501\n",
          "name": "stdout"
        }
      ]
    },
    {
      "metadata": {
        "trusted": true
      },
      "cell_type": "code",
      "source": "",
      "execution_count": null,
      "outputs": []
    }
  ],
  "metadata": {
    "kernelspec": {
      "name": "python36",
      "display_name": "Python 3.6",
      "language": "python"
    },
    "language_info": {
      "mimetype": "text/x-python",
      "nbconvert_exporter": "python",
      "name": "python",
      "pygments_lexer": "ipython3",
      "version": "3.6.6",
      "file_extension": ".py",
      "codemirror_mode": {
        "version": 3,
        "name": "ipython"
      }
    }
  },
  "nbformat": 4,
  "nbformat_minor": 2
}